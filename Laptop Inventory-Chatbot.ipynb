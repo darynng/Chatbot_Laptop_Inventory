{
 "cells": [
  {
   "cell_type": "markdown",
   "metadata": {},
   "source": [
    "In this project, we want to build a chatbot to help answer a few different questions about inventory for an online laptop store.\n",
    "\n",
    "Here are some queries that we will want to answer:\n",
    "\n",
    " - Given a laptop id, find the corresponding data.\n",
    " - Given a gift card, find whether a customer can use the gift to buy up to two laptops.\n",
    " - Identify all laptops whose price falls within a given budget.\n",
    " \n",
    "<b> Open dataset </b>"
   ]
  },
  {
   "cell_type": "code",
   "execution_count": 1,
   "metadata": {},
   "outputs": [
    {
     "name": "stdout",
     "output_type": "stream",
     "text": [
      "['Id', 'Company', 'Product', 'TypeName', 'Inches', 'ScreenResolution', 'Cpu', 'Ram', 'Memory', 'Gpu', 'OpSys', 'Weight', 'Price']\n",
      "['6571244', 'Apple', 'MacBook Pro', 'Ultrabook', '13.3', 'IPS Panel Retina Display 2560x1600', 'Intel Core i5 2.3GHz', '8GB', '128GB SSD', 'Intel Iris Plus Graphics 640', 'macOS', '1.37kg', '1339']\n"
     ]
    }
   ],
   "source": [
    "import csv\n",
    "with open('laptops.csv') as file:\n",
    "    file_read = csv.reader(file)\n",
    "    rows = list(file_read)\n",
    "    header = rows[0]\n",
    "    rows = rows[1:]\n",
    "    print(header)\n",
    "    print(rows[0])"
   ]
  },
  {
   "cell_type": "markdown",
   "metadata": {},
   "source": [
    "<b>Create Inventory class to process data</b>"
   ]
  },
  {
   "cell_type": "code",
   "execution_count": 2,
   "metadata": {},
   "outputs": [
    {
     "name": "stdout",
     "output_type": "stream",
     "text": [
      "['3362737', 'HP', '250 G6', 'Notebook', '15.6', 'Full HD 1920x1080', 'Intel Core i5 7200U 2.5GHz', '8GB', '256GB SSD', 'Intel HD Graphics 620', 'No OS', '1.86kg', 575]\n",
      "None\n"
     ]
    }
   ],
   "source": [
    "class Inventory():\n",
    "    \n",
    "    def __init__(self, csv_filename):\n",
    "        with open(csv_filename) as file:\n",
    "            read_file = csv.reader(file)\n",
    "            rows = list(read_file)\n",
    "            self.header = rows[0]\n",
    "            self.rows = rows[1:]\n",
    "            \n",
    "            #Look up by id\n",
    "            self.id_to_row = {}\n",
    "            for row in self.rows:         \n",
    "                row[-1] = int(row[-1])\n",
    "                self.id_to_row[row[0]] = row\n",
    "            \n",
    "    def get_laptop_from_id(self, laptop_id):\n",
    "        for row in self.rows:\n",
    "            if row[0] == laptop_id:\n",
    "                return row\n",
    "        return None\n",
    "    \n",
    "    def get_laptop_from_id_fast(self, laptop_id):\n",
    "        if laptop_id in self.id_to_row:\n",
    "            return self.id_to_row[laptop_id]\n",
    "        return None\n",
    "    \n",
    "inventory = Inventory('laptops.csv')\n",
    "print(inventory.get_laptop_from_id('3362737'))\n",
    "print(inventory.get_laptop_from_id_fast('3362736'))"
   ]
  },
  {
   "cell_type": "markdown",
   "metadata": {},
   "source": [
    "<b>Compare performace of the two get_laptop_from_id methods</b>\n",
    "\n",
    "The dictionary method should be faster with time complexity of O(1) while the loop method has time complexity of O(R)."
   ]
  },
  {
   "cell_type": "code",
   "execution_count": 3,
   "metadata": {},
   "outputs": [
    {
     "name": "stdout",
     "output_type": "stream",
     "text": [
      "0.9924063682556152\n",
      "0.0046541690826416016\n"
     ]
    }
   ],
   "source": [
    "import time                                                        \n",
    "import random                                                       \n",
    "\n",
    "ids = [str(random.randint(10000, 99999)) for _ in range(10000)] \n",
    "\n",
    "inventory = Inventory('laptops.csv')                               \n",
    "\n",
    "total_time_loop = 0                                              \n",
    "for identifier in ids:                                              \n",
    "    start = time.time()                                            \n",
    "    inventory.get_laptop_from_id(identifier)                       \n",
    "    end = time.time()                                            \n",
    "    total_time_loop += end - start                             \n",
    "    \n",
    "total_time_dict = 0                                              \n",
    "for identifier in ids:                                             \n",
    "    start = time.time()                                          \n",
    "    inventory.get_laptop_from_id_fast(identifier)                \n",
    "    end = time.time()                                               \n",
    "    total_time_dict += end - start                                 \n",
    "    \n",
    "print(total_time_loop)                                          \n",
    "print(total_time_dict)"
   ]
  },
  {
   "cell_type": "markdown",
   "metadata": {},
   "source": [
    "<b>Gift Card Amount Check & Find Laptop within budget</b>\n",
    "\n",
    "1. Gift Card check:\n",
    "The store offers gift cards that customer can use to buy up to two laptops with a single time usage. You don't want to make a customer feel cheated, so there must be at least one way to spend full amount on a gift card, whether by buying one or two laptops.\n",
    "\n",
    "\n",
    "2. Find a laptop within D dollars:\n",
    "Filter out all laptops out of budget."
   ]
  },
  {
   "cell_type": "code",
   "execution_count": 4,
   "metadata": {},
   "outputs": [
    {
     "name": "stdout",
     "output_type": "stream",
     "text": [
      "You can buy 2 laptops.\n",
      "There are 5 laptops in budget:\n",
      "['7667029', 'Asus', 'Vivobook E200HA', 'Netbook', '11.6', '1366x768', 'Intel Atom x5-Z8350 1.44GHz', '2GB', '32GB Flash Storage', 'Intel HD Graphics 400', 'Windows 10', '0.98kg', '191']\n",
      "['4366200', 'Asus', 'E402WA-GA010T (E2-6110/2GB/32GB/W10)', 'Notebook', '14', '1366x768', 'AMD E-Series E2-6110 1.5GHz', '2GB', '32GB Flash Storage', 'AMD Radeon R2', 'Windows 10', '1.65kg', '199']\n",
      "['3840240', 'Acer', 'Chromebook C910-C2ST', 'Notebook', '15.6', '1366x768', 'Intel Celeron Dual Core 3205U 1.5GHz', '2GB', '16GB SSD', 'Intel HD Graphics', 'Chrome OS', '2.19kg', '199']\n",
      "['1478754', 'Vero', 'V131 (X5-Z8350/4GB/32GB/FHD/W10)', 'Notebook', '13.3', 'Full HD 1920x1080', 'Intel Atom X5-Z8350 1.44GHz', '4GB', '32GB Flash Storage', 'Intel HD Graphics 400', 'Windows 10', '1.35kg', '196']\n",
      "['3564228', 'Acer', 'C740-C9QX (3205U/2GB/32GB/Chrome', 'Netbook', '11.6', '1366x768', 'Intel Celeron Dual Core 3205U 1.5GHz', '2GB', '32GB SSD', 'Intel HD Graphics', 'Chrome OS', '1.3kg', '174']\n",
      "\n"
     ]
    }
   ],
   "source": [
    "class Inventory():\n",
    "    \n",
    "    def __init__(self, csv_filename):\n",
    "        \n",
    "        with open(csv_filename) as file:\n",
    "            read_file = csv.reader(file)\n",
    "            rows = list(read_file)\n",
    "            self.header = rows[0]\n",
    "            self.rows = rows[1:]\n",
    "            \n",
    "            #Look up by id\n",
    "            self.id_to_row = {}\n",
    "            for row in self.rows:         \n",
    "                self.id_to_row[row[0]] = row\n",
    "            \n",
    "            #Gift card amount check\n",
    "            self.prices = set() #not dictionary\n",
    "            for row in self.rows:         \n",
    "                self.prices.add(int(row[-1]))\n",
    "    \n",
    "    def get_laptop_from_id_fast(self, laptop_id):\n",
    "        if laptop_id in self.id_to_row:\n",
    "            return self.id_to_row[laptop_id]\n",
    "        return None\n",
    "    \n",
    "    def gift_card_sufficient(self, dollars):\n",
    "        for price in self.prices:                    \n",
    "            if dollars - price in self.prices:\n",
    "                return \"You can buy 2 laptops.\"\n",
    "        if dollars in self.prices:                   \n",
    "            return \"You can only buy 1 laptop.\"\n",
    "        return \"Gift card is not sufficient.\"       \n",
    "    \n",
    "    def laptop_in_budget(self, budget):\n",
    "        in_budget = [row for row in self.rows if int(row[-1]) <= budget]\n",
    "        if in_budget:\n",
    "            message = f\"There are {len(in_budget)} laptops in budget:\\n\"\n",
    "            for row in in_budget:\n",
    "                message += f\"{row}\\n\"\n",
    "            return message\n",
    "        else: return None\n",
    "    \n",
    "inventory = Inventory('laptops.csv')\n",
    "print(inventory.gift_card_sufficient(1000))\n",
    "print(inventory.laptop_in_budget(200))"
   ]
  },
  {
   "cell_type": "markdown",
   "metadata": {},
   "source": [
    "<b>Build chatbot</b>\n",
    "\n",
    "\n",
    "Now we can build a chatbot to help customer answer those questions above."
   ]
  },
  {
   "cell_type": "code",
   "execution_count": null,
   "metadata": {},
   "outputs": [
    {
     "name": "stdout",
     "output_type": "stream",
     "text": [
      "Welcome to the Laptop Store chatbot!\n",
      "You can ask:\n",
      "- Find laptop by id <laptop_id>\n",
      "- How many laptops can I buy with <amount>\n",
      "- Show laptops under <amount>\n",
      "You: find laptop 3564228\n",
      "Bot:\n",
      "Id: 3564228\n",
      "Company: Acer\n",
      "Product: C740-C9QX (3205U/2GB/32GB/Chrome\n",
      "TypeName: Netbook\n",
      "Inches: 11.6\n",
      "ScreenResolution: 1366x768\n",
      "Cpu: Intel Celeron Dual Core 3205U 1.5GHz\n",
      "Ram: 2GB\n",
      "Memory: 32GB SSD\n",
      "Gpu: Intel HD Graphics\n",
      "OpSys: Chrome OS\n",
      "Weight: 1.3kg\n",
      "Price: 174\n"
     ]
    }
   ],
   "source": [
    "def chatbot(inventory):\n",
    "    print(\"Welcome to the Laptop Store chatbot!\")\n",
    "    print(\"You can ask:\")\n",
    "    print(\"- Find laptop by id <laptop_id>\")\n",
    "    print(\"- How many laptops can I buy with <amount>\")\n",
    "    print(\"- Show laptops under <amount>\")\n",
    "   \n",
    "    while True:\n",
    "        query = input(\"You: \").strip().lower()\n",
    "\n",
    "        if query.startswith(\"find laptop\"):\n",
    "            # Extract laptop id from the prompt\n",
    "            laptop_id = query.split()[-1] \n",
    "            laptop = inventory.get_laptop_from_id_fast(laptop_id)\n",
    "            if laptop:\n",
    "                formatted = \"\\n\".join(f\"{h}: {v}\" for h, v in zip(inventory.header, laptop))\n",
    "                print(\"Bot:\\n\" + formatted)\n",
    "            else:\n",
    "                print(\"Bot: Laptop ID not found.\")\n",
    "\n",
    "        elif query.startswith(\"how many laptops\"):\n",
    "            try:\n",
    "                amount = int(query.split()[-1])\n",
    "                result = inventory.gift_card_sufficient(amount)\n",
    "                print(\"Bot:\", result)\n",
    "            except ValueError:\n",
    "                print(\"Bot: Please provide a valid gift card amount.\")\n",
    "\n",
    "        elif query.startswith(\"show laptops under\"):\n",
    "            try:\n",
    "                budget = int(query.split()[-1])\n",
    "                result = inventory.laptop_in_budget(budget)\n",
    "                if result:\n",
    "                    print(\"Bot:\", result)\n",
    "                else:\n",
    "                    print(\"Bot: No laptops found within that budget.\")\n",
    "            except ValueError:\n",
    "                print(\"Bot: Please provide a valid budget amount.\")\n",
    "\n",
    "        else:\n",
    "            print(\"Bot: Sorry, I didn't understand that. Please try again.\")\n",
    "            \n",
    "chatbot(inventory)"
   ]
  },
  {
   "cell_type": "code",
   "execution_count": null,
   "metadata": {},
   "outputs": [],
   "source": []
  }
 ],
 "metadata": {
  "kernelspec": {
   "display_name": "Python 3",
   "language": "python",
   "name": "python3"
  },
  "language_info": {
   "codemirror_mode": {
    "name": "ipython",
    "version": 3
   },
   "file_extension": ".py",
   "mimetype": "text/x-python",
   "name": "python",
   "nbconvert_exporter": "python",
   "pygments_lexer": "ipython3",
   "version": "3.8.2"
  }
 },
 "nbformat": 4,
 "nbformat_minor": 2
}
